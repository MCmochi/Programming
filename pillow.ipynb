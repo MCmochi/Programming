{
  "nbformat": 4,
  "nbformat_minor": 0,
  "metadata": {
    "colab": {
      "provenance": []
    },
    "kernelspec": {
      "name": "python3",
      "display_name": "Python 3"
    },
    "language_info": {
      "name": "python"
    }
  },
  "cells": [
    {
      "cell_type": "markdown",
      "source": [],
      "metadata": {
        "id": "nAyIvK6F5ImQ"
      }
    },
    {
      "cell_type": "markdown",
      "source": [
        "https://steam.oxxostudio.tw/category/python/pyqt6/display-pillow.html"
      ],
      "metadata": {
        "id": "BkLaNMUK5KaF"
      }
    },
    {
      "cell_type": "code",
      "source": [
        "!pip install Pillow"
      ],
      "metadata": {
        "colab": {
          "base_uri": "https://localhost:8080/"
        },
        "id": "mTccytnb5LcU",
        "outputId": "ccf3290c-be1d-4a8d-a9b3-064e5f5aeb21"
      },
      "execution_count": 2,
      "outputs": [
        {
          "output_type": "stream",
          "name": "stdout",
          "text": [
            "Requirement already satisfied: Pillow in /usr/local/lib/python3.10/dist-packages (11.0.0)\n"
          ]
        }
      ]
    },
    {
      "cell_type": "code",
      "source": [
        "from PIL import Image\n",
        "img = Image.open('./watermark-photo.jpg')    # 開啟風景圖\n",
        "icon = Image.open('./watermark-icon.png')   # 開啟浮水印 icon\n",
        "img.paste(icon, (0,0), icon)     # 將風景圖貼上 icon\n",
        "img.save('./ok.jpg')             # 存檔為 ok.jpg\n",
        "# img.show()  # Colab 不支援直接顯示，如果使用本機環境會開啟圖片檢視器"
      ],
      "metadata": {
        "id": "oL8k5fAN6eyG"
      },
      "execution_count": 4,
      "outputs": []
    }
  ]
}